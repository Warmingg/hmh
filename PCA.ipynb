{
 "cells": [
  {
   "cell_type": "code",
   "execution_count": 7,
   "metadata": {},
   "outputs": [
    {
     "ename": "SyntaxError",
     "evalue": "invalid syntax (<ipython-input-7-82796550e9c4>, line 22)",
     "output_type": "error",
     "traceback": [
      "\u001b[0;36m  File \u001b[0;32m\"<ipython-input-7-82796550e9c4>\"\u001b[0;36m, line \u001b[0;32m22\u001b[0m\n\u001b[0;31m    def pca(XMat, 3):\u001b[0m\n\u001b[0m                  ^\u001b[0m\n\u001b[0;31mSyntaxError\u001b[0m\u001b[0;31m:\u001b[0m invalid syntax\n"
     ]
    }
   ],
   "source": [
    "import numpy as np\n",
    "import pandas as pd\n",
    "import matplotlib.pyplot as plt\n",
    "dataX=np.loadtxt(open(\"/home/mac/pca/principal_component.xls\"))\n",
    "def meanX(dataX):\n",
    "    return np.mean(dataX,axis=0)\n",
    "def variance(X):\n",
    "    m, n = np.shape(X)\n",
    "    mu = meanX(X)\n",
    "    muAll = np.tile(mu, (m, 1))    \n",
    "    X1 = X - muAll\n",
    "    variance = 1./m * np.diag(X1.T * X1)\n",
    "    return variance\n",
    "def normalize(X):\n",
    "    m, n = np.shape(X)\n",
    "    mu = meanX(X)\n",
    "    muAll = np.tile(mu, (m, 1))    \n",
    "    X1 = X - muAll\n",
    "    X2 = np.tile(np.diag(X.T * X), (m, 1))\n",
    "    XNorm = X1/X2\n",
    "    return XNorm\n",
    "def pca(XMat,3):\n",
    "    average = meanX(XMat) \n",
    "    m, n = np.shape(XMat)\n",
    "    data_adjust = []\n",
    "    avgs = np.tile(average, (m, 1))\n",
    "    data_adjust = XMat - avgs\n",
    "    covX = np.cov(data_adjust.T)   #计算协方差矩阵\n",
    "    featValue, featVec=  np.linalg.eig(covX)  #求解协方差矩阵的特征值和特征向量\n",
    "    index = np.argsort(-featValue) #按照featValue进行从大到小排序\n",
    "    finalData = []\n",
    "    if 3 > 8:\n",
    "        print (\"k must lower than feature number\")\n",
    "        return\n",
    "    else:\n",
    "        #注意特征向量时列向量，而numpy的二维矩阵(数组)a[m][n]中，a[1]表示第1行值\n",
    "        selectVec = np.matrix(featVec.T[index[:k]]) #所以这里需要进行转置\n",
    "        finalData = data_adjust * selectVec.T \n",
    "        reconData = (finalData * selectVec) + average  \n",
    "    return finalData, reconData\n",
    "\n",
    "def loaddata(datafile):\n",
    "    return np.array(pd.read_csv(datafile,sep=\"\\t\",header=-1)).astype(np.float)\n",
    "\n",
    "\n",
    "def plotBestFit(data1, data2):\t  \n",
    "    dataArr1 = np.array(data1)\n",
    "    dataArr2 = np.array(data2)\n",
    "    \n",
    "    m = np.shape(dataArr1)[0]\n",
    "    axis_x1 = []\n",
    "    axis_y1 = []\n",
    "    axis_x2 = []\n",
    "    axis_y2 = []\n",
    "    for i in range(m):\n",
    "        axis_x1.append(dataArr1[i,0])\n",
    "        axis_y1.append(dataArr1[i,1])\n",
    "        axis_x2.append(dataArr2[i,0]) \n",
    "        axis_y2.append(dataArr2[i,1])\t\t\t\t  \n",
    "    fig = plt.figure()\n",
    "    ax = fig.add_subplot(111)\n",
    "    ax.scatter(axis_x1, axis_y1, s=50, c='red', marker='s')\n",
    "    ax.scatter(axis_x2, axis_y2, s=50, c='blue')\n",
    "    plt.xlabel('x1'); plt.ylabel('x2');\n",
    "    plt.savefig(\"outfile.png\")\n",
    "    plt.show()\t\n"
   ]
  },
  {
   "cell_type": "code",
   "execution_count": null,
   "metadata": {},
   "outputs": [],
   "source": []
  },
  {
   "cell_type": "code",
   "execution_count": null,
   "metadata": {},
   "outputs": [],
   "source": []
  }
 ],
 "metadata": {
  "kernelspec": {
   "display_name": "Python 3",
   "language": "python",
   "name": "python3"
  },
  "language_info": {
   "codemirror_mode": {
    "name": "ipython",
    "version": 3
   },
   "file_extension": ".py",
   "mimetype": "text/x-python",
   "name": "python",
   "nbconvert_exporter": "python",
   "pygments_lexer": "ipython3",
   "version": "3.7.4"
  }
 },
 "nbformat": 4,
 "nbformat_minor": 2
}
